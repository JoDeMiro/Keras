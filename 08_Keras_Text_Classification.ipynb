{
  "nbformat": 4,
  "nbformat_minor": 0,
  "metadata": {
    "colab": {
      "name": "08 - Keras Text Classification.ipynb",
      "provenance": [],
      "collapsed_sections": [],
      "include_colab_link": true
    },
    "kernelspec": {
      "display_name": "Python 3",
      "name": "python3"
    },
    "language_info": {
      "codemirror_mode": {
        "name": "ipython",
        "version": 3
      },
      "file_extension": ".py",
      "mimetype": "text/x-python",
      "name": "python",
      "nbconvert_exporter": "python",
      "pygments_lexer": "ipython3",
      "version": "3.7.5"
    },
    "accelerator": "GPU"
  },
  "cells": [
    {
      "cell_type": "markdown",
      "metadata": {
        "id": "view-in-github",
        "colab_type": "text"
      },
      "source": [
        "<a href=\"https://colab.research.google.com/github/JoDeMiro/Keras/blob/main/08_Keras_Text_Classification.ipynb\" target=\"_parent\"><img src=\"https://colab.research.google.com/assets/colab-badge.svg\" alt=\"Open In Colab\"/></a>"
      ]
    },
    {
      "cell_type": "markdown",
      "metadata": {
        "id": "FhGuhbZ6M5tl"
      },
      "source": [
        "##### Bevezetés a TensorFlow Text Classification használatába.\n",
        "\n",
        "Nem utolsó sorban azért készítem el ezt a notebookot mert elképesztően jó template.\n",
        "\n",
        "Korábbi nagyon jó cikk:\n",
        "https://stackabuse.com/python-for-nlp-word-embeddings-for-deep-learning-in-keras"
      ]
    },
    {
      "cell_type": "markdown",
      "metadata": {
        "id": "EIdT9iu_Z4Rb"
      },
      "source": [
        "# Basic Text Classification: Class(z) -> Text(tokens)"
      ]
    },
    {
      "cell_type": "markdown",
      "metadata": {
        "id": "bBIlTPscrIT9"
      },
      "source": [
        "<table class=\"buttons\" align=\"left\">\n",
        "  <td>\n",
        "    <a target=\"_blank\" href=\"https://www.tensorflow.org/tutorials/keras/regression\"><img src=\"https://www.tensorflow.org/images/tf_logo_32px.png\" />View on TensorFlow.org</a>\n",
        "  </td>\n",
        "  <td>\n",
        "    <a target=\"_blank\" href=\"https://github.com/JoDeMiro/Face\" /><img src=\"https://github.com/JoDeMiro/Data/raw/main/Bucket/GitHub-Mark-32px.png\" />View source on GitHub</a>\n",
        "  </td>\n",
        "</table>"
      ]
    },
    {
      "cell_type": "markdown",
      "metadata": {
        "id": "AHp3M9ZmrIxj"
      },
      "source": [
        "Ebben a példában csak próba képpen szeretném bemutatni, hogyan lehet Tensorflow Keras API segítségével szövegeket oszályozni. Ami itt bemutatásra kerül a *One-Hot Encoding* a *Word2Vec* a *Tokenizáció* és a végén még az is, hogy lehet többféle bemenet alapján két különböző modelt tanítani úgy, hogy a klasszifikációban mindkettő részt vegyen."
      ]
    },
    {
      "cell_type": "code",
      "metadata": {
        "execution": {
          "iopub.execute_input": "2021-11-20T02:22:14.594703Z",
          "iopub.status.busy": "2021-11-20T02:22:14.593991Z",
          "iopub.status.idle": "2021-11-20T02:22:16.389995Z",
          "shell.execute_reply": "2021-11-20T02:22:16.390521Z"
        },
        "id": "1rRo8oNqZ-Rj"
      },
      "source": [
        "import matplotlib.pyplot as plt\n",
        "import numpy as np\n",
        "import pandas as pd\n",
        "import seaborn as sns\n",
        "import re\n",
        "\n",
        "# Make NumPy printouts easier to read.\n",
        "np.set_printoptions(precision=3, suppress=True)"
      ],
      "execution_count": null,
      "outputs": []
    },
    {
      "cell_type": "code",
      "metadata": {
        "execution": {
          "iopub.execute_input": "2021-11-20T02:22:16.395200Z",
          "iopub.status.busy": "2021-11-20T02:22:16.394631Z",
          "iopub.status.idle": "2021-11-20T02:22:17.857388Z",
          "shell.execute_reply": "2021-11-20T02:22:17.857779Z"
        },
        "id": "9xQKvCJ85kCQ",
        "colab": {
          "base_uri": "https://localhost:8080/"
        },
        "outputId": "a3a09aea-5ad2-428a-81cf-7ca849377850"
      },
      "source": [
        "import tensorflow as tf\n",
        "\n",
        "from tensorflow import keras\n",
        "from tensorflow.keras import layers\n",
        "\n",
        "print(tf.__version__)"
      ],
      "execution_count": null,
      "outputs": [
        {
          "output_type": "stream",
          "name": "stdout",
          "text": [
            "2.7.0\n"
          ]
        }
      ]
    },
    {
      "cell_type": "code",
      "metadata": {
        "colab": {
          "base_uri": "https://localhost:8080/"
        },
        "id": "_eevtVJ69LEX",
        "outputId": "3dce8e76-a3e7-436a-e962-4c7c3bdee361"
      },
      "source": [
        "from keras import backend as K\n",
        "\n",
        "if K.backend() == \"tensorflow\":\n",
        "    import tensorflow as tf\n",
        "    device_name = tf.test.gpu_device_name()\n",
        "    if device_name == '':\n",
        "        device_name = \"None\"\n",
        "    print('Using TensorFlow version:', tf.__version__, ', GPU:', device_name)"
      ],
      "execution_count": null,
      "outputs": [
        {
          "output_type": "stream",
          "name": "stdout",
          "text": [
            "Using TensorFlow version: 2.7.0 , GPU: /device:GPU:0\n"
          ]
        }
      ]
    },
    {
      "cell_type": "markdown",
      "metadata": {
        "id": "Wd5dVrELD_jv"
      },
      "source": [
        "Ebben a notebookban fogok egy nagy szöveghalmazt a Kagleről. A szöveges üzenetek alapján fogjuk becsülni az éftékelést, ami kategóriális és One-Hot encodoltá fogom alakítani mielött becsüljük. A költségfüggvény **soft-max** lesz.\n",
        "\n",
        "A második részben nem csak a szöveges információk felhasználásával végzem a becslést, hanem kategóriális meta adatokkal is, amelyek szintén minden egyes rekordhoz hozzá vannak rendelve.\n",
        "\n",
        "Végig a Keras Functiona API-t fogom használni a **Sequential** helyett, azért mert csak ennek segítségével lehet megcsinálni azt, hogy két különböző architechturáju modelt összekötök.\n"
      ]
    },
    {
      "cell_type": "markdown",
      "metadata": {
        "id": "LZpoqiA4lDz8"
      },
      "source": [
        "### Az adathalmaz\n",
        "Az adatokat a Kaggleről lehet letölteni, de az adatok nem fértek be a rendszer memóriájába ezért manuálisan letöltöttem, feldaraboltam és egy részét feltöltöttem. Eredetileg a *yelp_review.csv* fájlt használtam fel. A file  5,2 millió rekordot tartalmaz különböző vendéglátóhelyekre leadott véleményekről és a hozzájuk tartozó értékelésekkel. Ebből csak 17 ezret fogok felhasználni.\n",
        "\n",
        "https://www.kaggle.com/general/74235\n",
        "\n",
        "https://www.kaggle.com/yelp-dataset/yelp-dataset/version/4"
      ]
    },
    {
      "cell_type": "code",
      "metadata": {
        "id": "frGQSaABD8hv"
      },
      "source": [
        "from numpy import array\n",
        "from keras.preprocessing.text import one_hot\n",
        "from keras.preprocessing.sequence import pad_sequences\n",
        "from keras.models import Sequential\n",
        "from keras.layers.core import Activation, Dropout, Dense\n",
        "from keras.layers import Flatten, LSTM\n",
        "from keras.layers import GlobalMaxPooling1D\n",
        "from keras.models import Model\n",
        "from keras.layers.embeddings import Embedding\n",
        "from sklearn.model_selection import train_test_split\n",
        "from keras.preprocessing.text import Tokenizer\n",
        "from keras.layers import Input\n",
        "from keras.layers.merge import Concatenate\n",
        "\n",
        "\n"
      ],
      "execution_count": null,
      "outputs": []
    },
    {
      "cell_type": "markdown",
      "metadata": {
        "id": "qv4RLHPUGqKz"
      },
      "source": [
        "Le lehet ezt tölteni a kaggle modulon keresztül is de nem ezt fogom használni, hanem a manuálisan letöltött és megvágott adatot fogom letölteni."
      ]
    },
    {
      "cell_type": "code",
      "metadata": {
        "id": "totS-fckEvM8"
      },
      "source": [
        "!pip install -q kaggle"
      ],
      "execution_count": null,
      "outputs": []
    },
    {
      "cell_type": "code",
      "metadata": {
        "colab": {
          "resources": {
            "http://localhost:8080/nbextensions/google.colab/files.js": {
              "data": "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",
              "ok": true,
              "headers": [
                [
                  "content-type",
                  "application/javascript"
                ]
              ],
              "status": 200,
              "status_text": ""
            }
          },
          "base_uri": "https://localhost:8080/",
          "height": 73
        },
        "id": "trmnjy1jEvEo",
        "outputId": "e81b5af0-a002-4f27-92fd-95c7a463bf9c"
      },
      "source": [
        "from google.colab import files\n",
        "\n",
        "files.upload()"
      ],
      "execution_count": null,
      "outputs": [
        {
          "output_type": "display_data",
          "data": {
            "text/html": [
              "\n",
              "     <input type=\"file\" id=\"files-eeeca7ab-40a2-4e87-84fd-390521f48042\" name=\"files[]\" multiple disabled\n",
              "        style=\"border:none\" />\n",
              "     <output id=\"result-eeeca7ab-40a2-4e87-84fd-390521f48042\">\n",
              "      Upload widget is only available when the cell has been executed in the\n",
              "      current browser session. Please rerun this cell to enable.\n",
              "      </output>\n",
              "      <script src=\"/nbextensions/google.colab/files.js\"></script> "
            ],
            "text/plain": [
              "<IPython.core.display.HTML object>"
            ]
          },
          "metadata": {}
        },
        {
          "output_type": "stream",
          "name": "stdout",
          "text": [
            "Saving yelp_short_review.csv to yelp_short_review.csv\n"
          ]
        }
      ]
    },
    {
      "cell_type": "code",
      "metadata": {
        "colab": {
          "base_uri": "https://localhost:8080/"
        },
        "id": "YDoAAhxHEu7O",
        "outputId": "c1953a59-b0c4-4c05-81d5-a421514939e3"
      },
      "source": [
        "!mkdir ~/.kaggle\n",
        "!cp kaggle.json ~/.kaggle/\n",
        "!chmod 600 ~/.kaggle/kaggle.json\n",
        "# !kaggle datasets list\n",
        "\n",
        "# --------------->\n",
        "\n",
        "# !kaggle competitions download -c 'https://www.kaggle.com/yelp-dataset/yelp-dataset/version/4'\n",
        "\n",
        "# !kaggle datasets download -d 'yelp-dataset/yelp-dataset/version/4'\n",
        "\n",
        "# !unzip yelp-dataset.zip"
      ],
      "execution_count": null,
      "outputs": [
        {
          "output_type": "stream",
          "name": "stdout",
          "text": [
            "mkdir: cannot create directory ‘/root/.kaggle’: File exists\n"
          ]
        }
      ]
    },
    {
      "cell_type": "code",
      "metadata": {
        "colab": {
          "base_uri": "https://localhost:8080/"
        },
        "id": "-LTxs-rXMRtZ",
        "outputId": "d987178c-4f89-4b52-862b-41fccda740c0"
      },
      "source": [
        "!wget https://raw.githubusercontent.com/JoDeMiro/Data/main/Text/Yelp_Short_Review.csv"
      ],
      "execution_count": null,
      "outputs": [
        {
          "output_type": "stream",
          "name": "stdout",
          "text": [
            "--2021-11-28 13:51:51--  https://raw.githubusercontent.com/JoDeMiro/Data/main/Text/Yelp_Short_Review.csv\n",
            "Resolving raw.githubusercontent.com (raw.githubusercontent.com)... 185.199.108.133, 185.199.109.133, 185.199.110.133, ...\n",
            "Connecting to raw.githubusercontent.com (raw.githubusercontent.com)|185.199.108.133|:443... connected.\n",
            "HTTP request sent, awaiting response... 200 OK\n",
            "Length: 14178837 (14M) [text/plain]\n",
            "Saving to: ‘Yelp_Short_Review.csv’\n",
            "\n",
            "Yelp_Short_Review.c 100%[===================>]  13.52M  --.-KB/s    in 0.09s   \n",
            "\n",
            "2021-11-28 13:51:51 (144 MB/s) - ‘Yelp_Short_Review.csv’ saved [14178837/14178837]\n",
            "\n"
          ]
        }
      ]
    },
    {
      "cell_type": "code",
      "metadata": {
        "id": "b17IICiGD8bg"
      },
      "source": [
        "yelp_reviews = pd.read_csv(\"Yelp_Short_Review.csv\", skip_blank_lines=True)"
      ],
      "execution_count": null,
      "outputs": []
    },
    {
      "cell_type": "code",
      "metadata": {
        "colab": {
          "base_uri": "https://localhost:8080/",
          "height": 206
        },
        "id": "ZneTpj97D8YY",
        "outputId": "8480ef55-eee0-47d1-f96c-04c7cb465cb3"
      },
      "source": [
        "yelp_reviews.head()"
      ],
      "execution_count": null,
      "outputs": [
        {
          "output_type": "execute_result",
          "data": {
            "text/html": [
              "<div>\n",
              "<style scoped>\n",
              "    .dataframe tbody tr th:only-of-type {\n",
              "        vertical-align: middle;\n",
              "    }\n",
              "\n",
              "    .dataframe tbody tr th {\n",
              "        vertical-align: top;\n",
              "    }\n",
              "\n",
              "    .dataframe thead th {\n",
              "        text-align: right;\n",
              "    }\n",
              "</style>\n",
              "<table border=\"1\" class=\"dataframe\">\n",
              "  <thead>\n",
              "    <tr style=\"text-align: right;\">\n",
              "      <th></th>\n",
              "      <th>review_id</th>\n",
              "      <th>user_id</th>\n",
              "      <th>business_id</th>\n",
              "      <th>stars</th>\n",
              "      <th>date</th>\n",
              "      <th>text</th>\n",
              "      <th>useful</th>\n",
              "      <th>funny</th>\n",
              "      <th>cool</th>\n",
              "    </tr>\n",
              "  </thead>\n",
              "  <tbody>\n",
              "    <tr>\n",
              "      <th>0</th>\n",
              "      <td>vkVSCC7xljjrAI4UGfnKEQ</td>\n",
              "      <td>bv2nCi5Qv5vroFiqKGopiw</td>\n",
              "      <td>AEx2SYEUJmTxVVB18LlCwA</td>\n",
              "      <td>5</td>\n",
              "      <td>2016-05-28</td>\n",
              "      <td>Super simple place but amazing nonetheless. It...</td>\n",
              "      <td>0</td>\n",
              "      <td>0</td>\n",
              "      <td>0</td>\n",
              "    </tr>\n",
              "    <tr>\n",
              "      <th>1</th>\n",
              "      <td>n6QzIUObkYshz4dz2QRJTw</td>\n",
              "      <td>bv2nCi5Qv5vroFiqKGopiw</td>\n",
              "      <td>VR6GpWIda3SfvPC-lg9H3w</td>\n",
              "      <td>5</td>\n",
              "      <td>2016-05-28</td>\n",
              "      <td>Small unassuming place that changes their menu...</td>\n",
              "      <td>0</td>\n",
              "      <td>0</td>\n",
              "      <td>0</td>\n",
              "    </tr>\n",
              "    <tr>\n",
              "      <th>2</th>\n",
              "      <td>MV3CcKScW05u5LVfF6ok0g</td>\n",
              "      <td>bv2nCi5Qv5vroFiqKGopiw</td>\n",
              "      <td>CKC0-MOWMqoeWf6s-szl8g</td>\n",
              "      <td>5</td>\n",
              "      <td>2016-05-28</td>\n",
              "      <td>Lester's is located in a beautiful neighborhoo...</td>\n",
              "      <td>0</td>\n",
              "      <td>0</td>\n",
              "      <td>0</td>\n",
              "    </tr>\n",
              "    <tr>\n",
              "      <th>3</th>\n",
              "      <td>IXvOzsEMYtiJI0CARmj77Q</td>\n",
              "      <td>bv2nCi5Qv5vroFiqKGopiw</td>\n",
              "      <td>ACFtxLv8pGrrxMm6EgjreA</td>\n",
              "      <td>4</td>\n",
              "      <td>2016-05-28</td>\n",
              "      <td>Love coming here. Yes the place always needs t...</td>\n",
              "      <td>0</td>\n",
              "      <td>0</td>\n",
              "      <td>0</td>\n",
              "    </tr>\n",
              "    <tr>\n",
              "      <th>4</th>\n",
              "      <td>L_9BTb55X0GDtThi6GlZ6w</td>\n",
              "      <td>bv2nCi5Qv5vroFiqKGopiw</td>\n",
              "      <td>s2I_Ni76bjJNK9yG60iD-Q</td>\n",
              "      <td>4</td>\n",
              "      <td>2016-05-28</td>\n",
              "      <td>Had their chocolate almond croissant and it wa...</td>\n",
              "      <td>0</td>\n",
              "      <td>0</td>\n",
              "      <td>0</td>\n",
              "    </tr>\n",
              "  </tbody>\n",
              "</table>\n",
              "</div>"
            ],
            "text/plain": [
              "                review_id                 user_id  ... funny  cool\n",
              "0  vkVSCC7xljjrAI4UGfnKEQ  bv2nCi5Qv5vroFiqKGopiw  ...     0     0\n",
              "1  n6QzIUObkYshz4dz2QRJTw  bv2nCi5Qv5vroFiqKGopiw  ...     0     0\n",
              "2  MV3CcKScW05u5LVfF6ok0g  bv2nCi5Qv5vroFiqKGopiw  ...     0     0\n",
              "3  IXvOzsEMYtiJI0CARmj77Q  bv2nCi5Qv5vroFiqKGopiw  ...     0     0\n",
              "4  L_9BTb55X0GDtThi6GlZ6w  bv2nCi5Qv5vroFiqKGopiw  ...     0     0\n",
              "\n",
              "[5 rows x 9 columns]"
            ]
          },
          "metadata": {},
          "execution_count": 66
        }
      ]
    },
    {
      "cell_type": "markdown",
      "metadata": {
        "id": "6DwBzWgilN78"
      },
      "source": [
        "Az adatokban a stars oszlop lesz a függő változó amit az egyszerűség kedvéért kategóriális változóvá fogok alakítani. `->` **reviewer_score** oszlop névvel ellátva fogom az adatokhoz csatolni `->` [{'bad' ha 0, 1}, {'averae' ha 2, 3}, {'good' ha 4, 5}]\n"
      ]
    },
    {
      "cell_type": "code",
      "metadata": {
        "id": "eOu-GEiTD8P7"
      },
      "source": [
        "bins = [0,1,3,5]\n",
        "review_names = ['bad', 'average', 'good']\n",
        "yelp_reviews['reviews_score'] = pd.cut(yelp_reviews['stars'], bins, labels=review_names)"
      ],
      "execution_count": null,
      "outputs": []
    },
    {
      "cell_type": "markdown",
      "metadata": {
        "id": "n_CwYDVDlT67"
      },
      "source": [
        "Next, we will remove all the NULL values from our dataframe and will print the shape and the header of the dataset.\n",
        "\n",
        "Következő lépésben eltávolítom azokat az eseteket ahol bármelyik változó NULL értéket tartalmaz. (de nem fog)"
      ]
    },
    {
      "cell_type": "code",
      "metadata": {
        "colab": {
          "base_uri": "https://localhost:8080/"
        },
        "id": "NKtJ1d64lg5-",
        "outputId": "7085a212-693b-45ee-c05d-a864f794a602"
      },
      "source": [
        "yelp_reviews.isnull().values.any()"
      ],
      "execution_count": null,
      "outputs": [
        {
          "output_type": "execute_result",
          "data": {
            "text/plain": [
              "False"
            ]
          },
          "metadata": {},
          "execution_count": 68
        }
      ]
    },
    {
      "cell_type": "markdown",
      "metadata": {
        "id": "GnzmtK6Jlieb"
      },
      "source": [
        "Azt látjuk hogy (17263,10), ami azt jelenti, hogy az adathalmazunk 17263 rekordot tartalmaz 10 oszloppal. Az első pár sor így néz ki:\n"
      ]
    },
    {
      "cell_type": "code",
      "metadata": {
        "colab": {
          "base_uri": "https://localhost:8080/",
          "height": 603
        },
        "id": "D9fMY3M-D8KL",
        "outputId": "79fca7b8-c4a0-4cd2-89cd-9f8f90bb23c8"
      },
      "source": [
        "print(yelp_reviews.shape)\n",
        "\n",
        "yelp_reviews.head(11)"
      ],
      "execution_count": null,
      "outputs": [
        {
          "output_type": "stream",
          "name": "stdout",
          "text": [
            "(17263, 10)\n"
          ]
        },
        {
          "output_type": "execute_result",
          "data": {
            "text/html": [
              "<div>\n",
              "<style scoped>\n",
              "    .dataframe tbody tr th:only-of-type {\n",
              "        vertical-align: middle;\n",
              "    }\n",
              "\n",
              "    .dataframe tbody tr th {\n",
              "        vertical-align: top;\n",
              "    }\n",
              "\n",
              "    .dataframe thead th {\n",
              "        text-align: right;\n",
              "    }\n",
              "</style>\n",
              "<table border=\"1\" class=\"dataframe\">\n",
              "  <thead>\n",
              "    <tr style=\"text-align: right;\">\n",
              "      <th></th>\n",
              "      <th>review_id</th>\n",
              "      <th>user_id</th>\n",
              "      <th>business_id</th>\n",
              "      <th>stars</th>\n",
              "      <th>date</th>\n",
              "      <th>text</th>\n",
              "      <th>useful</th>\n",
              "      <th>funny</th>\n",
              "      <th>cool</th>\n",
              "      <th>reviews_score</th>\n",
              "    </tr>\n",
              "  </thead>\n",
              "  <tbody>\n",
              "    <tr>\n",
              "      <th>0</th>\n",
              "      <td>vkVSCC7xljjrAI4UGfnKEQ</td>\n",
              "      <td>bv2nCi5Qv5vroFiqKGopiw</td>\n",
              "      <td>AEx2SYEUJmTxVVB18LlCwA</td>\n",
              "      <td>5</td>\n",
              "      <td>2016-05-28</td>\n",
              "      <td>Super simple place but amazing nonetheless. It...</td>\n",
              "      <td>0</td>\n",
              "      <td>0</td>\n",
              "      <td>0</td>\n",
              "      <td>good</td>\n",
              "    </tr>\n",
              "    <tr>\n",
              "      <th>1</th>\n",
              "      <td>n6QzIUObkYshz4dz2QRJTw</td>\n",
              "      <td>bv2nCi5Qv5vroFiqKGopiw</td>\n",
              "      <td>VR6GpWIda3SfvPC-lg9H3w</td>\n",
              "      <td>5</td>\n",
              "      <td>2016-05-28</td>\n",
              "      <td>Small unassuming place that changes their menu...</td>\n",
              "      <td>0</td>\n",
              "      <td>0</td>\n",
              "      <td>0</td>\n",
              "      <td>good</td>\n",
              "    </tr>\n",
              "    <tr>\n",
              "      <th>2</th>\n",
              "      <td>MV3CcKScW05u5LVfF6ok0g</td>\n",
              "      <td>bv2nCi5Qv5vroFiqKGopiw</td>\n",
              "      <td>CKC0-MOWMqoeWf6s-szl8g</td>\n",
              "      <td>5</td>\n",
              "      <td>2016-05-28</td>\n",
              "      <td>Lester's is located in a beautiful neighborhoo...</td>\n",
              "      <td>0</td>\n",
              "      <td>0</td>\n",
              "      <td>0</td>\n",
              "      <td>good</td>\n",
              "    </tr>\n",
              "    <tr>\n",
              "      <th>3</th>\n",
              "      <td>IXvOzsEMYtiJI0CARmj77Q</td>\n",
              "      <td>bv2nCi5Qv5vroFiqKGopiw</td>\n",
              "      <td>ACFtxLv8pGrrxMm6EgjreA</td>\n",
              "      <td>4</td>\n",
              "      <td>2016-05-28</td>\n",
              "      <td>Love coming here. Yes the place always needs t...</td>\n",
              "      <td>0</td>\n",
              "      <td>0</td>\n",
              "      <td>0</td>\n",
              "      <td>good</td>\n",
              "    </tr>\n",
              "    <tr>\n",
              "      <th>4</th>\n",
              "      <td>L_9BTb55X0GDtThi6GlZ6w</td>\n",
              "      <td>bv2nCi5Qv5vroFiqKGopiw</td>\n",
              "      <td>s2I_Ni76bjJNK9yG60iD-Q</td>\n",
              "      <td>4</td>\n",
              "      <td>2016-05-28</td>\n",
              "      <td>Had their chocolate almond croissant and it wa...</td>\n",
              "      <td>0</td>\n",
              "      <td>0</td>\n",
              "      <td>0</td>\n",
              "      <td>good</td>\n",
              "    </tr>\n",
              "    <tr>\n",
              "      <th>5</th>\n",
              "      <td>HRPm3vEZ_F-33TYVT7Pebw</td>\n",
              "      <td>_4iMDXbXZ1p1ONG297YEAQ</td>\n",
              "      <td>8QWPlVQ6D-OExqXoaD2Z1g</td>\n",
              "      <td>5</td>\n",
              "      <td>2014-09-24</td>\n",
              "      <td>Cycle Pub Las Vegas was a blast! Got a groupon...</td>\n",
              "      <td>1</td>\n",
              "      <td>0</td>\n",
              "      <td>0</td>\n",
              "      <td>good</td>\n",
              "    </tr>\n",
              "    <tr>\n",
              "      <th>6</th>\n",
              "      <td>ymAUG8DZfQcFTBSOiaNN4w</td>\n",
              "      <td>u0LXt3Uea_GidxRW1xcsfg</td>\n",
              "      <td>9_CGhHMz8698M9-PkVf0CQ</td>\n",
              "      <td>4</td>\n",
              "      <td>2012-05-11</td>\n",
              "      <td>Who would have guess that you would be able to...</td>\n",
              "      <td>0</td>\n",
              "      <td>0</td>\n",
              "      <td>2</td>\n",
              "      <td>good</td>\n",
              "    </tr>\n",
              "    <tr>\n",
              "      <th>7</th>\n",
              "      <td>8UIishPUD92hXtScSga_gw</td>\n",
              "      <td>u0LXt3Uea_GidxRW1xcsfg</td>\n",
              "      <td>gkCorLgPyQLsptTHalL61g</td>\n",
              "      <td>4</td>\n",
              "      <td>2015-10-27</td>\n",
              "      <td>Always drove past this coffee house and wonder...</td>\n",
              "      <td>1</td>\n",
              "      <td>0</td>\n",
              "      <td>0</td>\n",
              "      <td>good</td>\n",
              "    </tr>\n",
              "    <tr>\n",
              "      <th>8</th>\n",
              "      <td>w41ZS9shepfO3uEyhXEWuQ</td>\n",
              "      <td>u0LXt3Uea_GidxRW1xcsfg</td>\n",
              "      <td>5r6-G9C4YLbC7Ziz57l3rQ</td>\n",
              "      <td>3</td>\n",
              "      <td>2013-02-09</td>\n",
              "      <td>Not bad!! Love that there is a gluten-free, ve...</td>\n",
              "      <td>1</td>\n",
              "      <td>0</td>\n",
              "      <td>0</td>\n",
              "      <td>average</td>\n",
              "    </tr>\n",
              "    <tr>\n",
              "      <th>9</th>\n",
              "      <td>WF_QTN3p-thD74hqpp2j-Q</td>\n",
              "      <td>u0LXt3Uea_GidxRW1xcsfg</td>\n",
              "      <td>fDF_o2JPU8BR1Gya--jRIA</td>\n",
              "      <td>5</td>\n",
              "      <td>2016-04-06</td>\n",
              "      <td>Love this place!\\r\\n\\r\\nPeggy is great with do...</td>\n",
              "      <td>3</td>\n",
              "      <td>0</td>\n",
              "      <td>0</td>\n",
              "      <td>good</td>\n",
              "    </tr>\n",
              "    <tr>\n",
              "      <th>10</th>\n",
              "      <td>PIsUSmvaUWB00qv5KTF1xA</td>\n",
              "      <td>u0LXt3Uea_GidxRW1xcsfg</td>\n",
              "      <td>z8oIoCT1cXz7gZP5GeU5OA</td>\n",
              "      <td>4</td>\n",
              "      <td>2013-05-01</td>\n",
              "      <td>This is currently my parents new favourite res...</td>\n",
              "      <td>1</td>\n",
              "      <td>0</td>\n",
              "      <td>0</td>\n",
              "      <td>good</td>\n",
              "    </tr>\n",
              "  </tbody>\n",
              "</table>\n",
              "</div>"
            ],
            "text/plain": [
              "                 review_id                 user_id  ... cool  reviews_score\n",
              "0   vkVSCC7xljjrAI4UGfnKEQ  bv2nCi5Qv5vroFiqKGopiw  ...    0           good\n",
              "1   n6QzIUObkYshz4dz2QRJTw  bv2nCi5Qv5vroFiqKGopiw  ...    0           good\n",
              "2   MV3CcKScW05u5LVfF6ok0g  bv2nCi5Qv5vroFiqKGopiw  ...    0           good\n",
              "3   IXvOzsEMYtiJI0CARmj77Q  bv2nCi5Qv5vroFiqKGopiw  ...    0           good\n",
              "4   L_9BTb55X0GDtThi6GlZ6w  bv2nCi5Qv5vroFiqKGopiw  ...    0           good\n",
              "5   HRPm3vEZ_F-33TYVT7Pebw  _4iMDXbXZ1p1ONG297YEAQ  ...    0           good\n",
              "6   ymAUG8DZfQcFTBSOiaNN4w  u0LXt3Uea_GidxRW1xcsfg  ...    2           good\n",
              "7   8UIishPUD92hXtScSga_gw  u0LXt3Uea_GidxRW1xcsfg  ...    0           good\n",
              "8   w41ZS9shepfO3uEyhXEWuQ  u0LXt3Uea_GidxRW1xcsfg  ...    0        average\n",
              "9   WF_QTN3p-thD74hqpp2j-Q  u0LXt3Uea_GidxRW1xcsfg  ...    0           good\n",
              "10  PIsUSmvaUWB00qv5KTF1xA  u0LXt3Uea_GidxRW1xcsfg  ...    0           good\n",
              "\n",
              "[11 rows x 10 columns]"
            ]
          },
          "metadata": {},
          "execution_count": 84
        }
      ]
    },
    {
      "cell_type": "markdown",
      "metadata": {
        "id": "H4TfbcgalbTb"
      },
      "source": [
        "Ami minket ezekből érdekelni fog az a **text** oszlop és az újonnan létrehozott **reviews_score**\n",
        "\n",
        "Ezenkívűl van még három változó {'useful', 'cool', 'funny'} ami a review-ra adott lehetséges reakció számát tartalmazz.\n",
        "\n",
        "Nézzünk meg közelebbről egy véletlenszerűen kiválasztott rekordot:"
      ]
    },
    {
      "cell_type": "code",
      "metadata": {
        "colab": {
          "base_uri": "https://localhost:8080/"
        },
        "id": "-ZPQOXCOD8DI",
        "outputId": "159831bb-2cdd-465c-a720-e7e4aa975c9a"
      },
      "source": [
        "print(yelp_reviews[\"text\"][3])"
      ],
      "execution_count": null,
      "outputs": [
        {
          "output_type": "stream",
          "name": "stdout",
          "text": [
            "Love coming here. Yes the place always needs the floor swept but when you give out  peanuts in the shell how won't it always be a bit dirty. \r\n",
            "\r\n",
            "The food speaks for itself, so good. Burgers are made to order and the meat is put on the grill when you order your sandwich. Getting the small burger just means 1 patty, the regular is a 2 patty burger which is twice the deliciousness. \r\n",
            "\r\n",
            "Getting the Cajun fries adds a bit of spice to them and whatever size you order they always throw more fries (a lot more fries) into the bag.\n"
          ]
        }
      ]
    },
    {
      "cell_type": "markdown",
      "metadata": {
        "id": "k2t_MT7LZ9Ec"
      },
      "source": [
        "## Creating a Model with Text Inputs Only\n",
        "\n",
        "Első lépésben létrehozok egy függvényt ami megtisztítja a szöveges adatokat."
      ]
    },
    {
      "cell_type": "code",
      "metadata": {
        "id": "P_JaSY-tD7_p"
      },
      "source": [
        "def preprocess_text(sen):\n",
        "\n",
        "    # Eltávolítja a központozást és a számokat\n",
        "    sentence = re.sub('[^a-zA-Z]', ' ', sen)\n",
        "\n",
        "    # Single character removal\n",
        "    sentence = re.sub(r\"\\s+[a-zA-Z]\\s+\", ' ', sentence)\n",
        "\n",
        "    # Eltávolítja a többszörös szóközöket\n",
        "    sentence = re.sub(r'\\s+', ' ', sentence)\n",
        "\n",
        "    return sentence"
      ],
      "execution_count": null,
      "outputs": []
    },
    {
      "cell_type": "markdown",
      "metadata": {
        "id": "RD-lq-bHaB8s"
      },
      "source": [
        "### Data cleaning\n",
        "\n",
        "Mivel ebben a modelben csak szöveges adatokat használunk ezért első lépésben megtisztítom a fenti függvénnyel a teljes szöveget és az eredményeket eltárolom egy listában. Ezek lesznek majd a későbbi **bemeneti adatai** a modellemnek.\n",
        "\n",
        "A kimeneti **becsült** változó pedig a **reviews_score** lesz."
      ]
    },
    {
      "cell_type": "code",
      "metadata": {
        "colab": {
          "base_uri": "https://localhost:8080/"
        },
        "id": "stjwD46tD78T",
        "outputId": "028aaea3-0c80-4d8c-cf96-c93d18e24c40"
      },
      "source": [
        "X = []\n",
        "sentences = list(yelp_reviews[\"text\"])\n",
        "print('len(sentences)', len(sentences))\n",
        "for sen in sentences:\n",
        "    X.append(preprocess_text(sen))\n",
        "\n",
        "y = yelp_reviews['reviews_score']"
      ],
      "execution_count": null,
      "outputs": [
        {
          "output_type": "stream",
          "name": "stdout",
          "text": [
            "len(sentences) 17263\n"
          ]
        }
      ]
    },
    {
      "cell_type": "code",
      "metadata": {
        "colab": {
          "base_uri": "https://localhost:8080/",
          "height": 53
        },
        "id": "FY4BiFtr8RdY",
        "outputId": "ab975736-41b6-44dc-80e2-4672ddbda232"
      },
      "source": [
        "X[9]"
      ],
      "execution_count": null,
      "outputs": [
        {
          "output_type": "execute_result",
          "data": {
            "application/vnd.google.colaboratory.intrinsic+json": {
              "type": "string"
            },
            "text/plain": [
              "'Love this place Peggy is great with dogs and does great job She is very patience with him and will make any adjustments you need before you leave the store My little guy has no problems coming here They also have very good bully sticks the non smelly ones that my little guy and his friends love '"
            ]
          },
          "metadata": {},
          "execution_count": 104
        }
      ]
    },
    {
      "cell_type": "markdown",
      "metadata": {
        "id": "PJRUhTlkaFVV"
      },
      "source": [
        "### Data coding transformation\n",
        "Másfelől a kimeneti változót is One-Hot encodolt formára hozom a `tensorflow.keras.utils.to_categorical` methodus segítségével.\n",
        "\n",
        "Elötte viszont számokká alakítom a `sklearn.preprocessing` modul `LabelEncoder` methodus használatával."
      ]
    },
    {
      "cell_type": "code",
      "metadata": {
        "id": "E2K8NjrpD74s"
      },
      "source": [
        "from sklearn import preprocessing\n",
        "\n",
        "# label_encoder -> text to num\n",
        "label_encoder = preprocessing.LabelEncoder()\n",
        "\n",
        "# ténylegesen itt történik meg a transformáció.\n",
        "y = label_encoder.fit_transform(y)"
      ],
      "execution_count": null,
      "outputs": []
    },
    {
      "cell_type": "markdown",
      "metadata": {
        "id": "-A8Ydq7uaJFY"
      },
      "source": [
        "### Split to Train and Test\n",
        "\n"
      ]
    },
    {
      "cell_type": "code",
      "metadata": {
        "id": "N73YLKNBD71J"
      },
      "source": [
        "X_train, X_test, y_train, y_test = train_test_split(X, y, test_size=0.20, random_state=42)"
      ],
      "execution_count": null,
      "outputs": []
    },
    {
      "cell_type": "markdown",
      "metadata": {
        "id": "N5qpm0QqaM26"
      },
      "source": [
        "### One-Hot encoding\n",
        "\n",
        "[{1}] `->` [{0, 1, 0}]"
      ]
    },
    {
      "cell_type": "code",
      "metadata": {
        "id": "q4lSNFYlD7xL"
      },
      "source": [
        "import tensorflow as tf\n",
        "\n",
        "y_train = tf.keras.utils.to_categorical(y_train)\n",
        "y_test  = tf.keras.utils.to_categorical(y_test)"
      ],
      "execution_count": null,
      "outputs": []
    },
    {
      "cell_type": "markdown",
      "metadata": {
        "id": "ftUoFnT_cSxW"
      },
      "source": [
        "### Tokenizálás\n",
        "\n",
        "Szerencsére erre is nyújt megoldás a Keras API."
      ]
    },
    {
      "cell_type": "code",
      "metadata": {
        "id": "aHwJyD_BD7tv"
      },
      "source": [
        "tokenizer = tf.keras.preprocessing.text.Tokenizer(num_words=5000)\n",
        "tokenizer.fit_on_texts(X_train)\n",
        "\n",
        "X_train = tokenizer.texts_to_sequences(X_train)\n",
        "X_test = tokenizer.texts_to_sequences(X_test)"
      ],
      "execution_count": null,
      "outputs": []
    },
    {
      "cell_type": "markdown",
      "metadata": {
        "id": "B_KWsIpCcZx2"
      },
      "source": [
        "A mondatok (jó kérdés, hogy a mondatok, vagy maguk a review-k) különböző hosszúak. Viszont a Neurális Hálóban a bemeneteknek, vagyis minden egyes rekord esetében a bemeneti adatoknak azonos hosszúnak vagy azonos számunak kell lennie. Ezért egy érdekes átalakítással élek. Ha több szót tartalmaz mint egy előre megadott szám akkor levágom őket.\n",
        "\n",
        "A lényeg a lényeg. Fent (előbb) adatam meg, hogy hány szó lehet 5000.\n",
        "\n",
        "Itt meg azt adot meg, hogy a fenti már átalakított szavakat alapul véve, milyen hosszú legyen egy bejegyzés 200.\n"
      ]
    },
    {
      "cell_type": "code",
      "metadata": {
        "id": "p4_DdtTuD7p8"
      },
      "source": [
        "vocab_size = len(tokenizer.word_index) + 1\n",
        "\n",
        "maxlen = 200\n",
        "\n",
        "X_train = tf.keras.preprocessing.sequence.pad_sequences(X_train, padding='post', maxlen=maxlen)\n",
        "X_test  = tf.keras.preprocessing.sequence.pad_sequences(X_test, padding='post', maxlen=maxlen)"
      ],
      "execution_count": null,
      "outputs": []
    },
    {
      "cell_type": "code",
      "metadata": {
        "colab": {
          "base_uri": "https://localhost:8080/"
        },
        "id": "Yx78vG9PE_F2",
        "outputId": "0d8ee133-fe90-470d-c060-99bbfd01930a"
      },
      "source": [
        "vocab_size"
      ],
      "execution_count": null,
      "outputs": [
        {
          "output_type": "execute_result",
          "data": {
            "text/plain": [
              "34861"
            ]
          },
          "metadata": {},
          "execution_count": 125
        }
      ]
    },
    {
      "cell_type": "code",
      "metadata": {
        "colab": {
          "base_uri": "https://localhost:8080/"
        },
        "id": "0j8BHxp57ko0",
        "outputId": "cc25a25c-d3e7-4356-dda7-a617d33e237f"
      },
      "source": [
        "X_train.shape"
      ],
      "execution_count": null,
      "outputs": [
        {
          "output_type": "execute_result",
          "data": {
            "text/plain": [
              "(13810, 200)"
            ]
          },
          "metadata": {},
          "execution_count": 110
        }
      ]
    },
    {
      "cell_type": "code",
      "metadata": {
        "colab": {
          "base_uri": "https://localhost:8080/"
        },
        "id": "85yOhzDP7vPl",
        "outputId": "b5852942-8445-4bb3-dc4f-faf1a53e4275"
      },
      "source": [
        "X_train[1]"
      ],
      "execution_count": null,
      "outputs": [
        {
          "output_type": "execute_result",
          "data": {
            "text/plain": [
              "array([ 254,  615,  102,    8,   11,  313,    2,  487,   70, 1420,   44,\n",
              "       1979, 1709,   15,  114,   44,  393,  956,  267,  296,  525,  143,\n",
              "        293,  193,   21,    1,  272, 1434,   52,    4,  653,  350, 1626,\n",
              "          2, 3092,  119,    5,    4,  334,  339,    4,  157,  680,  491,\n",
              "        330,    0,    0,    0,    0,    0,    0,    0,    0,    0,    0,\n",
              "          0,    0,    0,    0,    0,    0,    0,    0,    0,    0,    0,\n",
              "          0,    0,    0,    0,    0,    0,    0,    0,    0,    0,    0,\n",
              "          0,    0,    0,    0,    0,    0,    0,    0,    0,    0,    0,\n",
              "          0,    0,    0,    0,    0,    0,    0,    0,    0,    0,    0,\n",
              "          0,    0,    0,    0,    0,    0,    0,    0,    0,    0,    0,\n",
              "          0,    0,    0,    0,    0,    0,    0,    0,    0,    0,    0,\n",
              "          0,    0,    0,    0,    0,    0,    0,    0,    0,    0,    0,\n",
              "          0,    0,    0,    0,    0,    0,    0,    0,    0,    0,    0,\n",
              "          0,    0,    0,    0,    0,    0,    0,    0,    0,    0,    0,\n",
              "          0,    0,    0,    0,    0,    0,    0,    0,    0,    0,    0,\n",
              "          0,    0,    0,    0,    0,    0,    0,    0,    0,    0,    0,\n",
              "          0,    0,    0,    0,    0,    0,    0,    0,    0,    0,    0,\n",
              "          0,    0,    0,    0,    0,    0,    0,    0,    0,    0,    0,\n",
              "          0,    0], dtype=int32)"
            ]
          },
          "metadata": {},
          "execution_count": 111
        }
      ]
    },
    {
      "cell_type": "markdown",
      "metadata": {
        "id": "bHhIUB9iceOk"
      },
      "source": [
        "### Word2Vec\n",
        "\n",
        "Lesz olyan is amikor én állítom ezt elő, de ez a notebook most nem erről szól.\n",
        "\n",
        "Itt egy mások által legyártott Word2Vec modelt fogok alkalmazni.\n",
        "\n",
        "Innen kell letölteni <a href=\"https://nlp.stanford.edu/projects/glove/\">GloVe</a>"
      ]
    },
    {
      "cell_type": "code",
      "metadata": {
        "colab": {
          "base_uri": "https://localhost:8080/"
        },
        "id": "So6k06TNdCy8",
        "outputId": "21ffad36-b986-42f7-b643-407d5c729de5"
      },
      "source": [
        "!wget https://nlp.stanford.edu/data/glove.6B.zip"
      ],
      "execution_count": null,
      "outputs": [
        {
          "output_type": "stream",
          "name": "stdout",
          "text": [
            "--2021-11-28 12:10:34--  https://nlp.stanford.edu/data/glove.6B.zip\n",
            "Resolving nlp.stanford.edu (nlp.stanford.edu)... 171.64.67.140\n",
            "Connecting to nlp.stanford.edu (nlp.stanford.edu)|171.64.67.140|:443... connected.\n",
            "HTTP request sent, awaiting response... 301 Moved Permanently\n",
            "Location: http://downloads.cs.stanford.edu/nlp/data/glove.6B.zip [following]\n",
            "--2021-11-28 12:10:35--  http://downloads.cs.stanford.edu/nlp/data/glove.6B.zip\n",
            "Resolving downloads.cs.stanford.edu (downloads.cs.stanford.edu)... 171.64.64.22\n",
            "Connecting to downloads.cs.stanford.edu (downloads.cs.stanford.edu)|171.64.64.22|:80... connected.\n",
            "HTTP request sent, awaiting response... 200 OK\n",
            "Length: 862182613 (822M) [application/zip]\n",
            "Saving to: ‘glove.6B.zip’\n",
            "\n",
            "glove.6B.zip        100%[===================>] 822.24M  5.14MB/s    in 2m 42s  \n",
            "\n",
            "2021-11-28 12:13:17 (5.09 MB/s) - ‘glove.6B.zip’ saved [862182613/862182613]\n",
            "\n"
          ]
        }
      ]
    },
    {
      "cell_type": "code",
      "metadata": {
        "colab": {
          "base_uri": "https://localhost:8080/"
        },
        "id": "WF6tiRBFdJlb",
        "outputId": "d58cc967-8fb4-4a80-8459-f90f7df4adfa"
      },
      "source": [
        "!unzip glove.6B.zip"
      ],
      "execution_count": null,
      "outputs": [
        {
          "output_type": "stream",
          "name": "stdout",
          "text": [
            "Archive:  glove.6B.zip\n",
            "  inflating: glove.6B.50d.txt        \n",
            "  inflating: glove.6B.100d.txt       \n",
            "  inflating: glove.6B.200d.txt       \n",
            "  inflating: glove.6B.300d.txt       \n"
          ]
        }
      ]
    },
    {
      "cell_type": "markdown",
      "metadata": {
        "id": "3BLnPMLpAvUW"
      },
      "source": [
        "Az egészet betöltöm a memoriába úgy, hogy az ..."
      ]
    },
    {
      "cell_type": "code",
      "metadata": {
        "id": "fNPseg-ecfnV"
      },
      "source": [
        "from numpy import array\n",
        "from numpy import asarray\n",
        "from numpy import zeros\n",
        "\n",
        "embeddings_dictionary = dict()\n",
        "\n",
        "glove_file_path = 'glove.6B.100d.txt'\n",
        "\n",
        "glove_file = open(glove_file_path, \"r\", encoding='utf-8')\n",
        "\n",
        "for line in glove_file:\n",
        "    records = line.split()\n",
        "    word = records[0]\n",
        "    vector_dimensions = asarray(records[1:], dtype='float32')\n",
        "    embeddings_dictionary [word] = vector_dimensions\n",
        "\n",
        "glove_file.close()"
      ],
      "execution_count": null,
      "outputs": []
    },
    {
      "cell_type": "code",
      "metadata": {
        "colab": {
          "base_uri": "https://localhost:8080/"
        },
        "id": "a6Wc4dJLBHih",
        "outputId": "191e0e61-0d54-438b-f802-0b8376721fd2"
      },
      "source": [
        "vector_dimensions"
      ],
      "execution_count": null,
      "outputs": [
        {
          "output_type": "execute_result",
          "data": {
            "text/plain": [
              "array([ 0.284, -0.626, -0.444,  0.218, -0.087, -0.171,  0.293, -0.025,\n",
              "        0.264, -0.17 ,  0.258,  0.097, -0.331, -0.439,  0.01 ,  0.096,\n",
              "       -0.178,  0.389,  0.272,  0.147, -0.44 , -0.266, -0.024,  0.272,\n",
              "       -0.368, -0.248, -0.208,  0.221, -0.044,  0.021,  0.246,  0.261,\n",
              "        0.293,  0.133,  0.082, -0.129,  0.162, -0.226, -0.06 ,  0.287,\n",
              "        0.114,  0.348,  0.342,  0.37 , -0.136,  0.006,  0.08 ,  0.004,\n",
              "        0.431,  0.019,  0.31 ,  0.167,  0.074, -0.377,  0.474,  0.413,\n",
              "        0.245,  0.076, -0.517, -0.495,  0.526, -0.075,  0.414, -0.196,\n",
              "       -0.165, -0.046, -0.402, -0.131, -0.467,  0.188,  0.261,  0.169,\n",
              "        0.226,  0.63 , -0.129,  0.056,  0.019,  0.025,  0.469,  0.258,\n",
              "       -0.317,  0.049,  0.328, -0.501,  0.309,  0.12 , -0.258, -0.04 ,\n",
              "       -0.06 ,  0.553,  0.139, -0.229,  0.072, -0.432,  0.54 , -0.086,\n",
              "        0.033,  0.437, -0.826, -0.157], dtype=float32)"
            ]
          },
          "metadata": {},
          "execution_count": 113
        }
      ]
    },
    {
      "cell_type": "code",
      "metadata": {
        "colab": {
          "base_uri": "https://localhost:8080/"
        },
        "id": "eKrrMaYkBV_q",
        "outputId": "63e92e90-27c4-430d-fab6-53fb00f49ab5"
      },
      "source": [
        "len(embeddings_dictionary)"
      ],
      "execution_count": null,
      "outputs": [
        {
          "output_type": "execute_result",
          "data": {
            "text/plain": [
              "400000"
            ]
          },
          "metadata": {},
          "execution_count": 114
        }
      ]
    },
    {
      "cell_type": "code",
      "metadata": {
        "colab": {
          "base_uri": "https://localhost:8080/"
        },
        "id": "-9M5bi9ZBdgL",
        "outputId": "24fa357c-7c48-4bc7-f068-a1cb57aecc68"
      },
      "source": [
        "embeddings_dictionary.get('fire')"
      ],
      "execution_count": null,
      "outputs": [
        {
          "output_type": "execute_result",
          "data": {
            "text/plain": [
              "array([-0.269, -0.155, -0.236, -0.036, -0.399,  0.523,  0.613,  0.424,\n",
              "        0.313,  0.437,  0.341, -0.243,  0.614,  0.381,  0.113, -0.336,\n",
              "        0.001,  0.048, -1.231, -0.107,  0.823, -0.792,  0.104, -0.51 ,\n",
              "        0.24 ,  0.223, -1.03 ,  0.264, -0.288, -0.025, -0.21 , -0.064,\n",
              "       -0.315,  0.519, -0.369, -0.878, -0.106, -0.701,  0.988,  0.234,\n",
              "       -0.35 ,  0.084,  0.153, -0.304,  1.264,  0.149, -0.691,  0.051,\n",
              "        0.045, -0.737,  0.292,  0.103, -0.316,  1.354,  0.407, -2.361,\n",
              "        0.315, -0.069,  1.666,  0.669,  0.298,  0.853, -0.121,  0.597,\n",
              "        0.527,  0.148,  0.533, -0.077, -0.047, -0.015, -0.217, -0.706,\n",
              "        0.6  , -0.548,  0.266, -0.078,  0.627,  0.291, -1.378,  0.092,\n",
              "        1.028, -0.151, -0.39 ,  0.061, -0.151, -0.021,  0.07 ,  0.152,\n",
              "        0.091,  0.222,  0.705, -0.66 , -0.629,  0.943, -0.757,  0.36 ,\n",
              "       -0.238,  0.493,  0.721, -0.042], dtype=float32)"
            ]
          },
          "metadata": {},
          "execution_count": 115
        }
      ]
    },
    {
      "cell_type": "markdown",
      "metadata": {
        "id": "x10Lkzy5dVSL"
      },
      "source": [
        "Finally, we will create an embedding matrix where rows will be equal to the number of words in the vocabulary (plus 1). The number of columns will be 100 since each word in the GloVe word embeddings that we loaded is represented as a 100 dimensional vector."
      ]
    },
    {
      "cell_type": "code",
      "metadata": {
        "id": "2Hob_8D-cfjq"
      },
      "source": [
        "embedding_matrix = zeros((vocab_size, 100))\n",
        "for word, index in tokenizer.word_index.items():\n",
        "    embedding_vector = embeddings_dictionary.get(word)\n",
        "    if embedding_vector is not None:\n",
        "        embedding_matrix[index] = embedding_vector"
      ],
      "execution_count": null,
      "outputs": []
    },
    {
      "cell_type": "code",
      "metadata": {
        "colab": {
          "base_uri": "https://localhost:8080/"
        },
        "id": "xgLv97AnB449",
        "outputId": "ef861e5b-66b1-4beb-861b-d9911e7b30b3"
      },
      "source": [
        "embedding_matrix.shape"
      ],
      "execution_count": null,
      "outputs": [
        {
          "output_type": "execute_result",
          "data": {
            "text/plain": [
              "(34861, 100)"
            ]
          },
          "metadata": {},
          "execution_count": 117
        }
      ]
    },
    {
      "cell_type": "markdown",
      "metadata": {
        "id": "o0KLXdIjCFFV"
      },
      "source": [
        "Gyakorlatilag ennyi szó volt/van a szövegben amit osztályozni akarunk. Ez az embeding_matrix NumPy tömb tartalmazza az egyes szavakat 100 hosszú vektor formában."
      ]
    },
    {
      "cell_type": "markdown",
      "metadata": {
        "id": "MKw472ytdaQD"
      },
      "source": [
        "Once the word embedding step is completed, we are ready to create our model. We will be using Keras' functional API to create our model. Though single input models like the one we are creating now can be developed using sequential API as well, but since in the next section we are going to develop a multiple input model that can only be developed using Keras functional API, we will stick to functional API in this section too."
      ]
    },
    {
      "cell_type": "markdown",
      "metadata": {
        "id": "kXV74Ii3ddDs"
      },
      "source": [
        "We will create a very simple model with one input layer (embedding layer), one LSTM layer with 128 neurons and one dense layer that will act as the output layer as well. Since we have 3 possible outputs, the number of neurons will be 3 and the activation function will be softmax. We will use the categorical_crossentropy as our loss function and adam as the optimization function."
      ]
    },
    {
      "cell_type": "code",
      "metadata": {
        "colab": {
          "base_uri": "https://localhost:8080/"
        },
        "id": "Mz6ToBK8Cg4-",
        "outputId": "094b0275-8125-454c-ef2d-dd76d7ad4ef9"
      },
      "source": [
        "vocab_size"
      ],
      "execution_count": null,
      "outputs": [
        {
          "output_type": "execute_result",
          "data": {
            "text/plain": [
              "34861"
            ]
          },
          "metadata": {},
          "execution_count": 119
        }
      ]
    },
    {
      "cell_type": "markdown",
      "metadata": {
        "id": "9zX1ivkTCljq"
      },
      "source": [
        "A bemenet 200 hosszú\n",
        "\n",
        "`maxlen = 200`\n",
        "\n",
        "Mert ennyi szót tartalmazhat egy rekord. Igen ám de itt jön az érdekesség. Ugyanis a szavak 100 hosszú vektorok. Akkor hogy van ez?\n",
        "\n",
        "`vocab_size = 34861`\n",
        "\n",
        "Ennyi szó van az abban a mátrixban amit elöbb hoztam létre `embedding_matrix` néven.\n",
        "\n",
        "Az a lényeg, hogy a Kerasnak van egy Embedding rétege. (szavak száma, vektor hossza) amit nem tanítunk. (De honnan tudja, hogy melyik szóhoz, melyik sora tartozik a mátrixnak? - Hiszen a mátrix semmiféle információt nem tartalmaz arra vonatkozólag, hogy melyik sor melyik szót takarja)"
      ]
    },
    {
      "cell_type": "code",
      "metadata": {
        "colab": {
          "base_uri": "https://localhost:8080/"
        },
        "id": "9BG5DskPEf5C",
        "outputId": "ab45675f-69d7-49c3-fbc1-1e12c035102f"
      },
      "source": [
        "X_train.shape"
      ],
      "execution_count": null,
      "outputs": [
        {
          "output_type": "execute_result",
          "data": {
            "text/plain": [
              "(13810, 200)"
            ]
          },
          "metadata": {},
          "execution_count": 123
        }
      ]
    },
    {
      "cell_type": "code",
      "metadata": {
        "colab": {
          "base_uri": "https://localhost:8080/"
        },
        "id": "Wwvtr9EbEi20",
        "outputId": "5ffeb718-75ce-4e3e-b8d8-b02e619eba51"
      },
      "source": [
        "X_train[1]"
      ],
      "execution_count": null,
      "outputs": [
        {
          "output_type": "execute_result",
          "data": {
            "text/plain": [
              "array([ 254,  615,  102,    8,   11,  313,    2,  487,   70, 1420,   44,\n",
              "       1979, 1709,   15,  114,   44,  393,  956,  267,  296,  525,  143,\n",
              "        293,  193,   21,    1,  272, 1434,   52,    4,  653,  350, 1626,\n",
              "          2, 3092,  119,    5,    4,  334,  339,    4,  157,  680,  491,\n",
              "        330,    0,    0,    0,    0,    0,    0,    0,    0,    0,    0,\n",
              "          0,    0,    0,    0,    0,    0,    0,    0,    0,    0,    0,\n",
              "          0,    0,    0,    0,    0,    0,    0,    0,    0,    0,    0,\n",
              "          0,    0,    0,    0,    0,    0,    0,    0,    0,    0,    0,\n",
              "          0,    0,    0,    0,    0,    0,    0,    0,    0,    0,    0,\n",
              "          0,    0,    0,    0,    0,    0,    0,    0,    0,    0,    0,\n",
              "          0,    0,    0,    0,    0,    0,    0,    0,    0,    0,    0,\n",
              "          0,    0,    0,    0,    0,    0,    0,    0,    0,    0,    0,\n",
              "          0,    0,    0,    0,    0,    0,    0,    0,    0,    0,    0,\n",
              "          0,    0,    0,    0,    0,    0,    0,    0,    0,    0,    0,\n",
              "          0,    0,    0,    0,    0,    0,    0,    0,    0,    0,    0,\n",
              "          0,    0,    0,    0,    0,    0,    0,    0,    0,    0,    0,\n",
              "          0,    0,    0,    0,    0,    0,    0,    0,    0,    0,    0,\n",
              "          0,    0,    0,    0,    0,    0,    0,    0,    0,    0,    0,\n",
              "          0,    0], dtype=int32)"
            ]
          },
          "metadata": {},
          "execution_count": 124
        }
      ]
    },
    {
      "cell_type": "code",
      "metadata": {
        "id": "njilIX9Tcff9"
      },
      "source": [
        "deep_inputs     = Input(shape=(maxlen,))\n",
        "embedding_layer = Embedding(vocab_size, 100, weights=[embedding_matrix], trainable=False)(deep_inputs)\n",
        "LSTM_Layer_1    = LSTM(128)(embedding_layer)\n",
        "dense_layer_1   = Dense(3, activation='softmax')(LSTM_Layer_1)\n",
        "\n",
        "model           = Model(inputs=deep_inputs, outputs=dense_layer_1)\n",
        "\n",
        "model.compile(loss='categorical_crossentropy', optimizer='adam', metrics=['acc'])"
      ],
      "execution_count": null,
      "outputs": []
    },
    {
      "cell_type": "markdown",
      "metadata": {
        "id": "0QdHGZ-tdhai"
      },
      "source": [
        "Let's print the summary of our model:"
      ]
    },
    {
      "cell_type": "code",
      "metadata": {
        "colab": {
          "base_uri": "https://localhost:8080/"
        },
        "id": "fBRmV_5OcfcX",
        "outputId": "842af0c4-3fdf-40f2-ad37-5628fe8ea28f"
      },
      "source": [
        "print(model.summary())"
      ],
      "execution_count": null,
      "outputs": [
        {
          "output_type": "stream",
          "name": "stdout",
          "text": [
            "Model: \"model_2\"\n",
            "_________________________________________________________________\n",
            " Layer (type)                Output Shape              Param #   \n",
            "=================================================================\n",
            " input_5 (InputLayer)        [(None, 200)]             0         \n",
            "                                                                 \n",
            " embedding_2 (Embedding)     (None, 200, 100)          3486100   \n",
            "                                                                 \n",
            " lstm_2 (LSTM)               (None, 128)               117248    \n",
            "                                                                 \n",
            " dense_5 (Dense)             (None, 3)                 387       \n",
            "                                                                 \n",
            "=================================================================\n",
            "Total params: 3,603,735\n",
            "Trainable params: 117,635\n",
            "Non-trainable params: 3,486,100\n",
            "_________________________________________________________________\n",
            "None\n"
          ]
        }
      ]
    },
    {
      "cell_type": "markdown",
      "metadata": {
        "id": "b1TpY3CadkxC"
      },
      "source": [
        "Finally, lets print the block diagram of our neural network:"
      ]
    },
    {
      "cell_type": "code",
      "metadata": {
        "colab": {
          "base_uri": "https://localhost:8080/",
          "height": 422
        },
        "id": "6n5dVIiwcfZH",
        "outputId": "a723ac55-b2d0-4a53-fa9a-cb335b13e905"
      },
      "source": [
        "from tensorflow.keras.utils import plot_model\n",
        "\n",
        "plot_model(model, to_file='model_plot1.png', show_shapes=True, show_layer_names=True)"
      ],
      "execution_count": null,
      "outputs": [
        {
          "output_type": "execute_result",
          "data": {
            "image/png": "[encoded data removed]",
            "text/plain": [
              "<IPython.core.display.Image object>"
            ]
          },
          "metadata": {},
          "execution_count": 30
        }
      ]
    },
    {
      "cell_type": "markdown",
      "metadata": {
        "id": "eYrQELl9duV1"
      },
      "source": [
        "You can see that the model has 1 input layer, 1 embedding layer, 1 LSTM, and one dense layer which serves as the output layer as well.\n",
        "\n",
        "Let's now train our model:"
      ]
    },
    {
      "cell_type": "code",
      "metadata": {
        "colab": {
          "base_uri": "https://localhost:8080/"
        },
        "id": "dYyLxS3idtr0",
        "outputId": "21287f9c-0bc3-40c4-b6f1-26ab17ea7d0a"
      },
      "source": [
        "history = model.fit(X_train, y_train, batch_size=128, epochs=10, verbose=1, validation_split=0.2)"
      ],
      "execution_count": null,
      "outputs": [
        {
          "output_type": "stream",
          "name": "stdout",
          "text": [
            "Epoch 1/10\n",
            "87/87 [==============================] - 10s 58ms/step - loss: 0.8622 - acc: 0.6581 - val_loss: 0.8381 - val_acc: 0.6589\n",
            "Epoch 2/10\n",
            "87/87 [==============================] - 4s 47ms/step - loss: 0.8332 - acc: 0.6627 - val_loss: 0.8361 - val_acc: 0.6593\n",
            "Epoch 3/10\n",
            "87/87 [==============================] - 4s 47ms/step - loss: 0.8180 - acc: 0.6676 - val_loss: 0.8373 - val_acc: 0.6600\n",
            "Epoch 4/10\n",
            "87/87 [==============================] - 4s 47ms/step - loss: 0.8173 - acc: 0.6684 - val_loss: 0.8228 - val_acc: 0.6658\n",
            "Epoch 5/10\n",
            "87/87 [==============================] - 4s 47ms/step - loss: 0.8174 - acc: 0.6688 - val_loss: 0.8397 - val_acc: 0.6615\n",
            "Epoch 6/10\n",
            "87/87 [==============================] - 4s 47ms/step - loss: 0.8169 - acc: 0.6675 - val_loss: 0.8316 - val_acc: 0.6636\n",
            "Epoch 7/10\n",
            "87/87 [==============================] - 4s 47ms/step - loss: 0.8117 - acc: 0.6713 - val_loss: 0.8292 - val_acc: 0.6626\n",
            "Epoch 8/10\n",
            "87/87 [==============================] - 4s 47ms/step - loss: 0.8052 - acc: 0.6740 - val_loss: 0.8421 - val_acc: 0.6376\n",
            "Epoch 9/10\n",
            "87/87 [==============================] - 4s 47ms/step - loss: 0.8061 - acc: 0.6739 - val_loss: 0.8235 - val_acc: 0.6589\n",
            "Epoch 10/10\n",
            "87/87 [==============================] - 4s 47ms/step - loss: 0.7952 - acc: 0.6752 - val_loss: 0.9381 - val_acc: 0.6669\n"
          ]
        }
      ]
    },
    {
      "cell_type": "markdown",
      "metadata": {
        "id": "V3F6bfNjff2J"
      },
      "source": [
        "Let's now evaluate the performance of our model on test set:"
      ]
    },
    {
      "cell_type": "code",
      "metadata": {
        "colab": {
          "base_uri": "https://localhost:8080/"
        },
        "id": "C4UibHgPdtoI",
        "outputId": "0a9356d6-617a-4858-ee4f-5d10f87f6f51"
      },
      "source": [
        "score = model.evaluate(X_test, y_test, verbose=1)\n",
        "\n",
        "print(\"Test Score:\", score[0])\n",
        "print(\"Test Accuracy:\", score[1])"
      ],
      "execution_count": null,
      "outputs": [
        {
          "output_type": "stream",
          "name": "stdout",
          "text": [
            "108/108 [==============================] - 2s 18ms/step - loss: 0.9346 - acc: 0.6733\n",
            "Test Score: 0.9345514178276062\n",
            "Test Accuracy: 0.6733275651931763\n"
          ]
        }
      ]
    },
    {
      "cell_type": "markdown",
      "metadata": {
        "id": "F7URjYrxfqMu"
      },
      "source": [
        "Finally, let's plot the values for loss and accuracy for both training and testing sets:"
      ]
    },
    {
      "cell_type": "code",
      "metadata": {
        "colab": {
          "base_uri": "https://localhost:8080/",
          "height": 295
        },
        "id": "n0IgcGf8dtjx",
        "outputId": "ba912ed2-0d18-4b58-8175-a310de7cc332"
      },
      "source": [
        "def plot_accuracy(history):\n",
        "  plt.plot(history.history['acc'])\n",
        "  plt.plot(history.history['val_acc'])\n",
        "  plt.xlabel('Epoch')\n",
        "  plt.ylabel('Accuracy')\n",
        "  plt.title('Model accuracy')\n",
        "  plt.legend(['train','test'], loc='upper left')\n",
        "  plt.grid(True)\n",
        "  plt.show()\n",
        "\n",
        "plot_accuracy(history)"
      ],
      "execution_count": null,
      "outputs": [
        {
          "output_type": "display_data",
          "data": {
            "image/png": "[encoded data removed]",
            "text/plain": [
              "<Figure size 432x288 with 1 Axes>"
            ]
          },
          "metadata": {
            "needs_background": "light"
          }
        }
      ]
    },
    {
      "cell_type": "code",
      "metadata": {
        "colab": {
          "base_uri": "https://localhost:8080/",
          "height": 295
        },
        "id": "ooNx9KvTdtfI",
        "outputId": "61e14c84-d63f-4d89-9dd0-d6be60fa45b1"
      },
      "source": [
        "def plot_loss(history):\n",
        "  plt.plot(history.history['loss'])\n",
        "  plt.plot(history.history['val_loss'])\n",
        "  plt.xlabel('Epoch')\n",
        "  plt.ylabel('Loss')\n",
        "  plt.title('Model loss')\n",
        "  plt.legend(['train','test'], loc='upper left')\n",
        "  plt.grid(True)\n",
        "  plt.show()\n",
        "\n",
        "plot_loss(history)"
      ],
      "execution_count": null,
      "outputs": [
        {
          "output_type": "display_data",
          "data": {
            "image/png": "[encoded data removed]",
            "text/plain": [
              "<Figure size 432x288 with 1 Axes>"
            ]
          },
          "metadata": {
            "needs_background": "light"
          }
        }
      ]
    },
    {
      "cell_type": "markdown",
      "metadata": {
        "id": "tNdRXSBwgirX"
      },
      "source": [
        "## Create modell with metadata\n",
        "\n",
        "In the previous sections, we saw how to train deep learning models using either textual data or meta information. What if we want to combine textual information with meta information and use that as input to our model? We can do so using the Keras functional API. In this section we will create two submodels.\n",
        "\n",
        "The first submodel will accept textual input in the form of text reviews. This submodel will consist of an input shape layer, an embedding layer, and an LSTM layer of 128 neurons. The second submodel will accept input in the form of meta information from the useful, funny, and cool columns. The second submodel also consist of three layers. An input layer and two dense layers.\n",
        "\n",
        "The output from the LSTM layer of the first submodel and the output from the second dense layer of the second submodel will be concatenated together and will be used as concatenated input to another dense layer with 10 neurons. Finally, the output dense layer will have three neuorns corresponding to each review type.\n",
        "\n",
        "Let's see how we can createe such a concatenated model.\n",
        "\n",
        "First we have to create two different types of inputs. To do so, we will divide our data into a feature set and label set, as shown below:"
      ]
    },
    {
      "cell_type": "code",
      "metadata": {
        "id": "DvgV8ROZcfVs"
      },
      "source": [
        "X = yelp_reviews.drop('reviews_score', axis=1)\n",
        "\n",
        "y = yelp_reviews['reviews_score']"
      ],
      "execution_count": null,
      "outputs": []
    },
    {
      "cell_type": "code",
      "metadata": {
        "id": "BNyGk823g7fp"
      },
      "source": [
        "from sklearn import preprocessing\n",
        "\n",
        "# label_encoder object knows how to understand word labels.\n",
        "label_encoder = preprocessing.LabelEncoder()\n",
        "\n",
        "# Encode labels in column 'species'.\n",
        "y = label_encoder.fit_transform(y)\n",
        "\n",
        "# ------------------>\n",
        "\n",
        "X_train, X_test, y_train, y_test = train_test_split(X, y, test_size=0.20, random_state=42)\n",
        "\n",
        "from tensorflow.keras.utils import to_categorical\n",
        "\n",
        "# ------------------>\n",
        "y_train = to_categorical(y_train)\n",
        "y_test = to_categorical(y_test)"
      ],
      "execution_count": null,
      "outputs": []
    },
    {
      "cell_type": "markdown",
      "metadata": {
        "id": "eoAZnwwjhIM9"
      },
      "source": [
        "Now our label set is in the required form. Since there will be only one output, therefore we don't need to process our label set. However, there will be multiple inputs to the model. Therefore, we need to preprocess our feature set.\n",
        "\n",
        "Let's first create preproces_text function that will be used to preprocess our dataset:"
      ]
    },
    {
      "cell_type": "code",
      "metadata": {
        "id": "a0hl5ngBg7cM"
      },
      "source": [
        "def preprocess_text(sen):\n",
        "\n",
        "    # Remove punctuations and numbers\n",
        "    sentence = re.sub('[^a-zA-Z]', ' ', sen)\n",
        "\n",
        "    # Single character removal\n",
        "    sentence = re.sub(r\"\\s+[a-zA-Z]\\s+\", ' ', sentence)\n",
        "\n",
        "    # Removing multiple spaces\n",
        "    sentence = re.sub(r'\\s+', ' ', sentence)\n",
        "\n",
        "    return sentence"
      ],
      "execution_count": null,
      "outputs": []
    },
    {
      "cell_type": "markdown",
      "metadata": {
        "id": "HpvLvGGDhMZA"
      },
      "source": [
        "As a first step, we will create textual input for the training and test set. Look at the following script:"
      ]
    },
    {
      "cell_type": "code",
      "metadata": {
        "id": "-I8ji5odg7Y0"
      },
      "source": [
        "X1_train = []\n",
        "sentences = list(X_train[\"text\"])\n",
        "for sen in sentences:\n",
        "    X1_train.append(preprocess_text(sen))"
      ],
      "execution_count": null,
      "outputs": []
    },
    {
      "cell_type": "markdown",
      "metadata": {
        "id": "v3ZZbBJehRnU"
      },
      "source": [
        "Now X1_train contains the textual input for the training set. Similarly, the following script preprocess textual input data for test set:"
      ]
    },
    {
      "cell_type": "code",
      "metadata": {
        "id": "A86E3Hmfg7OW"
      },
      "source": [
        "X1_test = []\n",
        "sentences = list(X_test[\"text\"])\n",
        "for sen in sentences:\n",
        "    X1_test.append(preprocess_text(sen))"
      ],
      "execution_count": null,
      "outputs": []
    },
    {
      "cell_type": "markdown",
      "metadata": {
        "id": "xPLArMtthU-r"
      },
      "source": [
        "Now we need to convert textual input for the training and test sets into numeric form using word embeddings. The following script does that:"
      ]
    },
    {
      "cell_type": "code",
      "metadata": {
        "id": "_nAGj_V3D7mX"
      },
      "source": [
        "tokenizer = Tokenizer(num_words=5000)\n",
        "tokenizer.fit_on_texts(X1_train)\n",
        "\n",
        "X1_train = tokenizer.texts_to_sequences(X1_train)\n",
        "X1_test = tokenizer.texts_to_sequences(X1_test)\n",
        "\n",
        "vocab_size = len(tokenizer.word_index) + 1\n",
        "\n",
        "maxlen = 200\n",
        "\n",
        "X1_train = pad_sequences(X1_train, padding='post', maxlen=maxlen)\n",
        "X1_test = pad_sequences(X1_test, padding='post', maxlen=maxlen)"
      ],
      "execution_count": null,
      "outputs": []
    },
    {
      "cell_type": "markdown",
      "metadata": {
        "id": "dHz5M20QhY2b"
      },
      "source": [
        "We will again use GloVe word embeddings for creating word vectors:"
      ]
    },
    {
      "cell_type": "code",
      "metadata": {
        "id": "RgoMZiYDD7cn"
      },
      "source": [
        "from numpy import array\n",
        "from numpy import asarray\n",
        "from numpy import zeros\n",
        "\n",
        "embeddings_dictionary = dict()\n",
        "\n",
        "glove_file = open('glove.6B.100d.txt', encoding=\"utf8\")\n",
        "\n",
        "for line in glove_file:\n",
        "    records = line.split()\n",
        "    word = records[0]\n",
        "    vector_dimensions = asarray(records[1:], dtype='float32')\n",
        "    embeddings_dictionary[word] = vector_dimensions\n",
        "\n",
        "glove_file.close()\n",
        "\n",
        "embedding_matrix = zeros((vocab_size, 100))\n",
        "for word, index in tokenizer.word_index.items():\n",
        "    embedding_vector = embeddings_dictionary.get(word)\n",
        "    if embedding_vector is not None:\n",
        "        embedding_matrix[index] = embedding_vector"
      ],
      "execution_count": null,
      "outputs": []
    },
    {
      "cell_type": "markdown",
      "metadata": {
        "id": "6UtaEqt3hxgD"
      },
      "source": [
        "We have preprocessed our textual input. The second input type is the meta information in the useful, funny, and cool columns. We will filter these columns from the feature set to create meta input for training the algorithms. Look at the following script:"
      ]
    },
    {
      "cell_type": "code",
      "metadata": {
        "id": "eO4PGx4ahuKo"
      },
      "source": [
        "X2_train = X_train[['useful', 'funny', 'cool']].values\n",
        "X2_test = X_test[['useful', 'funny', 'cool']].values"
      ],
      "execution_count": null,
      "outputs": []
    },
    {
      "cell_type": "markdown",
      "metadata": {
        "id": "Ek3UCEJYh1T5"
      },
      "source": [
        "Let's now create our two input layers. The first input layer will be used to input the textual input and the second input layer will be used to input meta information from the three columns."
      ]
    },
    {
      "cell_type": "code",
      "metadata": {
        "id": "AxTHVwwshuHW"
      },
      "source": [
        "input_1 = Input(shape=(maxlen,))\n",
        "\n",
        "input_2 = Input(shape=(3,))"
      ],
      "execution_count": null,
      "outputs": []
    },
    {
      "cell_type": "markdown",
      "metadata": {
        "id": "t04ebcWXh4ns"
      },
      "source": [
        "You can see that the first input layer input_1 is used for the textual input. The shape size has been set to the shape of the input sentence. For the second input layer, the shape corresponds to three columns.\n",
        "\n",
        "Let's now create the first submodel that accepts data from first input layer:"
      ]
    },
    {
      "cell_type": "code",
      "metadata": {
        "id": "dXOMy1B2huDq"
      },
      "source": [
        "embedding_layer = Embedding(vocab_size, 100, weights=[embedding_matrix], trainable=False)(input_1)\n",
        "LSTM_Layer_1 = LSTM(128)(embedding_layer)"
      ],
      "execution_count": null,
      "outputs": []
    },
    {
      "cell_type": "markdown",
      "metadata": {
        "id": "CKABZ7yrh7SX"
      },
      "source": [
        "Similarly, the following script creates a second submodel that accepts input from the second input layer:"
      ]
    },
    {
      "cell_type": "code",
      "metadata": {
        "id": "9uC8bcv9ht_q"
      },
      "source": [
        "dense_layer_1 = Dense(10, activation='relu')(input_2)\n",
        "dense_layer_2 = Dense(10, activation='relu')(dense_layer_1)"
      ],
      "execution_count": null,
      "outputs": []
    },
    {
      "cell_type": "markdown",
      "metadata": {
        "id": "o2H0SG8Ph-wB"
      },
      "source": [
        "We now have two submodels. What we want to do is concatenate the output from the first submodel with the output from the second submodel. The output from the first submodel is the output from the LSTM_Layer_1 and similarly, the output from the second submodel is the output from the dense_layer_2. We can use the Concatenate class from the keras.layers.merge module to concatenate two inputs.\n",
        "\n",
        "The following script creates our final model:"
      ]
    },
    {
      "cell_type": "code",
      "metadata": {
        "id": "VSGZ5lU9ht8O"
      },
      "source": [
        "concat_layer = Concatenate()([LSTM_Layer_1, dense_layer_2])\n",
        "dense_layer_3 = Dense(10, activation='relu')(concat_layer)\n",
        "output = Dense(3, activation='softmax')(dense_layer_3)\n",
        "model = Model(inputs=[input_1, input_2], outputs=output)"
      ],
      "execution_count": null,
      "outputs": []
    },
    {
      "cell_type": "markdown",
      "metadata": {
        "id": "URO-z-NmiCcq"
      },
      "source": [
        "You can see that now our model has a list of inputs with two items. The following script compiles the model and prints its summary:"
      ]
    },
    {
      "cell_type": "code",
      "metadata": {
        "colab": {
          "base_uri": "https://localhost:8080/"
        },
        "id": "2fAx_Denht46",
        "outputId": "01938d60-c336-425e-cb58-23edda86f7ce"
      },
      "source": [
        "model.compile(loss='categorical_crossentropy', optimizer='adam', metrics=['acc'])\n",
        "print(model.summary())"
      ],
      "execution_count": null,
      "outputs": [
        {
          "output_type": "stream",
          "name": "stdout",
          "text": [
            "Model: \"model_1\"\n",
            "__________________________________________________________________________________________________\n",
            " Layer (type)                   Output Shape         Param #     Connected to                     \n",
            "==================================================================================================\n",
            " input_3 (InputLayer)           [(None, 200)]        0           []                               \n",
            "                                                                                                  \n",
            " input_4 (InputLayer)           [(None, 3)]          0           []                               \n",
            "                                                                                                  \n",
            " embedding_1 (Embedding)        (None, 200, 100)     3486100     ['input_3[0][0]']                \n",
            "                                                                                                  \n",
            " dense_1 (Dense)                (None, 10)           40          ['input_4[0][0]']                \n",
            "                                                                                                  \n",
            " lstm_1 (LSTM)                  (None, 128)          117248      ['embedding_1[0][0]']            \n",
            "                                                                                                  \n",
            " dense_2 (Dense)                (None, 10)           110         ['dense_1[0][0]']                \n",
            "                                                                                                  \n",
            " concatenate (Concatenate)      (None, 138)          0           ['lstm_1[0][0]',                 \n",
            "                                                                  'dense_2[0][0]']                \n",
            "                                                                                                  \n",
            " dense_3 (Dense)                (None, 10)           1390        ['concatenate[0][0]']            \n",
            "                                                                                                  \n",
            " dense_4 (Dense)                (None, 3)            33          ['dense_3[0][0]']                \n",
            "                                                                                                  \n",
            "==================================================================================================\n",
            "Total params: 3,604,921\n",
            "Trainable params: 118,821\n",
            "Non-trainable params: 3,486,100\n",
            "__________________________________________________________________________________________________\n",
            "None\n"
          ]
        }
      ]
    },
    {
      "cell_type": "code",
      "metadata": {
        "colab": {
          "base_uri": "https://localhost:8080/",
          "height": 644
        },
        "id": "B2-_6lB0ht1b",
        "outputId": "65b2e71c-61aa-4694-e920-07b5984187b3"
      },
      "source": [
        "from tensorflow.keras.utils import plot_model\n",
        "\n",
        "plot_model(model, to_file='model_plot3.png', show_shapes=True, show_layer_names=True)"
      ],
      "execution_count": null,
      "outputs": [
        {
          "output_type": "execute_result",
          "data": {
            "image/png": "[encoded data removed]",
            "text/plain": [
              "<IPython.core.display.Image object>"
            ]
          },
          "metadata": {},
          "execution_count": 56
        }
      ]
    },
    {
      "cell_type": "markdown",
      "metadata": {
        "id": "IuQPqreKiOwl"
      },
      "source": [
        "The above figure clearly explains how we have concatenated multiple inputs into one input to create our model.\n",
        "\n",
        "Let's now train our model and see the results:"
      ]
    },
    {
      "cell_type": "code",
      "metadata": {
        "colab": {
          "base_uri": "https://localhost:8080/"
        },
        "id": "_rxXD7hxhtxm",
        "outputId": "0f7a634e-274d-4a76-ecae-d6d0a2f9dd66"
      },
      "source": [
        "history = model.fit(x=[X1_train, X2_train], y=y_train, batch_size=128, epochs=10, verbose=1, validation_split=0.2)"
      ],
      "execution_count": null,
      "outputs": [
        {
          "output_type": "stream",
          "name": "stdout",
          "text": [
            "Epoch 1/10\n",
            "87/87 [==============================] - 7s 56ms/step - loss: 0.8697 - acc: 0.6562 - val_loss: 0.8282 - val_acc: 0.6582\n",
            "Epoch 2/10\n",
            "87/87 [==============================] - 4s 47ms/step - loss: 0.8621 - acc: 0.6594 - val_loss: 0.8390 - val_acc: 0.6597\n",
            "Epoch 3/10\n",
            "87/87 [==============================] - 4s 47ms/step - loss: 0.8166 - acc: 0.6646 - val_loss: 0.8212 - val_acc: 0.6597\n",
            "Epoch 4/10\n",
            "87/87 [==============================] - 4s 48ms/step - loss: 0.8045 - acc: 0.6659 - val_loss: 0.8104 - val_acc: 0.6629\n",
            "Epoch 5/10\n",
            "87/87 [==============================] - 4s 48ms/step - loss: 0.7930 - acc: 0.6699 - val_loss: 0.7980 - val_acc: 0.6698\n",
            "Epoch 6/10\n",
            "87/87 [==============================] - 4s 47ms/step - loss: 0.7827 - acc: 0.6730 - val_loss: 0.7892 - val_acc: 0.6658\n",
            "Epoch 7/10\n",
            "87/87 [==============================] - 4s 47ms/step - loss: 0.7744 - acc: 0.6735 - val_loss: 0.7773 - val_acc: 0.6687\n",
            "Epoch 8/10\n",
            "87/87 [==============================] - 4s 48ms/step - loss: 0.7275 - acc: 0.6808 - val_loss: 0.6737 - val_acc: 0.6941\n",
            "Epoch 9/10\n",
            "87/87 [==============================] - 4s 47ms/step - loss: 0.6320 - acc: 0.7209 - val_loss: 0.6116 - val_acc: 0.7245\n",
            "Epoch 10/10\n",
            "87/87 [==============================] - 4s 47ms/step - loss: 0.5830 - acc: 0.7397 - val_loss: 0.6191 - val_acc: 0.7328\n"
          ]
        }
      ]
    },
    {
      "cell_type": "code",
      "metadata": {
        "colab": {
          "base_uri": "https://localhost:8080/"
        },
        "id": "LPxJIZfQhtaB",
        "outputId": "fd3760b5-d77f-441a-fcc6-fd4a5acc6748"
      },
      "source": [
        "score = model.evaluate(x=[X1_test, X2_test], y=y_test, verbose=1)\n",
        "\n",
        "print(\"Test Score:\", score[0])\n",
        "print(\"Test Accuracy:\", score[1])"
      ],
      "execution_count": null,
      "outputs": [
        {
          "output_type": "stream",
          "name": "stdout",
          "text": [
            "108/108 [==============================] - 2s 14ms/step - loss: 0.6134 - acc: 0.7376\n",
            "Test Score: 0.6134420037269592\n",
            "Test Accuracy: 0.7376194596290588\n"
          ]
        }
      ]
    },
    {
      "cell_type": "markdown",
      "metadata": {
        "id": "vxzZaIHviYZr"
      },
      "source": [
        "Our test accuracy is 80.53%, which is slightly less than our first model that uses textual input only. This shows that meta information in yelp_reviews is not very useful for sentiment prediction.\n",
        "\n",
        "Anyways, now you know how to create multiple input model for text classification in Keras!\n",
        "\n",
        "Finally, let's now print the loss and accuracy for training and test sets:"
      ]
    },
    {
      "cell_type": "code",
      "metadata": {
        "colab": {
          "base_uri": "https://localhost:8080/",
          "height": 295
        },
        "id": "IkIfo4f0iVrH",
        "outputId": "20c50d88-5028-4be7-8c29-b6f985c93ee2"
      },
      "source": [
        "plot_accuracy(history)"
      ],
      "execution_count": null,
      "outputs": [
        {
          "output_type": "display_data",
          "data": {
            "image/png": "[encoded data removed]",
            "text/plain": [
              "<Figure size 432x288 with 1 Axes>"
            ]
          },
          "metadata": {
            "needs_background": "light"
          }
        }
      ]
    },
    {
      "cell_type": "markdown",
      "metadata": {
        "id": "S0q2d5VXilxA"
      },
      "source": [
        "## Final Thoughts and Improvements\n",
        "In this article, we built a very simple neural network since the purpose of the article is to explain how to create deep learning model that accepts multiple inputs of different types.\n",
        "\n",
        "Following are some of the tips that you can follow to further improve the performance of the text classification model:\n",
        "\n",
        "We only used 50,000, out of 5.2 million records in this article since we had hardware constraint. You can try training your model on a higher number of records and see if you can achieve better performance.\n",
        "Try adding more LSTM and dense layers to the model. If the model overfits, try to add dropout.\n",
        "Try to change the optimizer function and train the model with higher number of epochs.\n",
        "Please share your results along with the neural network configuration in the comments section. I would love to see how well did you perform."
      ]
    },
    {
      "cell_type": "code",
      "metadata": {
        "id": "lvYa6CfpiVnA"
      },
      "source": [
        ""
      ],
      "execution_count": null,
      "outputs": []
    },
    {
      "cell_type": "code",
      "metadata": {
        "id": "TipU-m6oiVje"
      },
      "source": [
        ""
      ],
      "execution_count": null,
      "outputs": []
    },
    {
      "cell_type": "code",
      "metadata": {
        "id": "FCIBXyDviVfy"
      },
      "source": [
        ""
      ],
      "execution_count": null,
      "outputs": []
    },
    {
      "cell_type": "code",
      "metadata": {
        "id": "NNmu_QMIiVcE"
      },
      "source": [
        ""
      ],
      "execution_count": null,
      "outputs": []
    },
    {
      "cell_type": "code",
      "metadata": {
        "id": "hh06lf7ZiVYQ"
      },
      "source": [
        ""
      ],
      "execution_count": null,
      "outputs": []
    },
    {
      "cell_type": "code",
      "metadata": {
        "id": "ehVQx-xliVNL"
      },
      "source": [
        ""
      ],
      "execution_count": null,
      "outputs": []
    },
    {
      "cell_type": "code",
      "metadata": {
        "id": "TquMPupWiU8N"
      },
      "source": [
        ""
      ],
      "execution_count": null,
      "outputs": []
    },
    {
      "cell_type": "code",
      "metadata": {
        "id": "cDPkQVTF5Ofz"
      },
      "source": [
        "# https://en.wikipedia.org/wiki/Stochastic_gradient_descent\n",
        "\n",
        "# arra az esetre, ha meg akarok őrülni"
      ],
      "execution_count": null,
      "outputs": []
    },
    {
      "cell_type": "code",
      "metadata": {
        "id": "eyhYCejb2Nly"
      },
      "source": [
        "# https://machinelearningmastery.com/gentle-introduction-mini-batch-gradient-descent-configure-batch-size/\n",
        "\n",
        "# ez is olyan ami alapján lehet cikket írni, alapanyag"
      ],
      "execution_count": null,
      "outputs": []
    },
    {
      "cell_type": "code",
      "metadata": {
        "id": "RAJvjmvBl-re"
      },
      "source": [
        "\n",
        "# https://machinelearningmastery.com/how-to-control-the-speed-and-stability-of-training-neural-networks-with-gradient-descent-batch-size/\n",
        "\n",
        "\n",
        "# olvastam egy sexy cikket\n",
        "# a batch_size jelentőségéről\n",
        "\n",
        "# van ahol a batch size nagyon kicsi (n=1 -> sgd), de van olyan is, hogy teljes mintát odaadja neki"
      ],
      "execution_count": null,
      "outputs": []
    },
    {
      "cell_type": "code",
      "metadata": {
        "colab": {
          "base_uri": "https://localhost:8080/",
          "height": 279
        },
        "id": "7xfPdu7NhtKi",
        "outputId": "57a2cca3-a486-4c40-dd01-cb9f52b07ae1"
      },
      "source": [
        ""
      ],
      "execution_count": null,
      "outputs": [
        {
          "output_type": "display_data",
          "data": {
            "image/png": "[encoded data removed]",
            "text/plain": [
              "<Figure size 432x288 with 1 Axes>"
            ]
          },
          "metadata": {
            "needs_background": "light"
          }
        }
      ]
    },
    {
      "cell_type": "code",
      "metadata": {
        "colab": {
          "base_uri": "https://localhost:8080/"
        },
        "id": "ub3Q7fq5w4p_",
        "outputId": "ecef0c9b-941a-44e1-ee7d-f3fac21fbf19"
      },
      "source": [
        "model.save('woman1')"
      ],
      "execution_count": null,
      "outputs": [
        {
          "output_type": "stream",
          "name": "stdout",
          "text": [
            "INFO:tensorflow:Assets written to: woman1/assets\n"
          ]
        }
      ]
    },
    {
      "cell_type": "code",
      "metadata": {
        "colab": {
          "base_uri": "https://localhost:8080/"
        },
        "id": "IGql11n8xJSr",
        "outputId": "f55f4070-bf61-47fb-8810-e740e3f0bedc"
      },
      "source": [
        "!zip -r woman1.zip woman1"
      ],
      "execution_count": null,
      "outputs": [
        {
          "output_type": "stream",
          "name": "stdout",
          "text": [
            "  adding: woman1/ (stored 0%)\n",
            "  adding: woman1/assets/ (stored 0%)\n",
            "  adding: woman1/keras_metadata.pb (deflated 89%)\n",
            "  adding: woman1/saved_model.pb (deflated 89%)\n",
            "  adding: woman1/variables/ (stored 0%)\n",
            "  adding: woman1/variables/variables.data-00000-of-00001 (deflated 64%)\n",
            "  adding: woman1/variables/variables.index (deflated 64%)\n"
          ]
        }
      ]
    },
    {
      "cell_type": "code",
      "metadata": {
        "id": "fDNZ5eskyABH"
      },
      "source": [
        "!rm -rf woman1"
      ],
      "execution_count": null,
      "outputs": []
    },
    {
      "cell_type": "code",
      "metadata": {
        "id": "3PoeYlp1zIP2"
      },
      "source": [
        "!wget https://github.com/JoDeMiro/Face/raw/main/woman1.zip"
      ],
      "execution_count": null,
      "outputs": []
    },
    {
      "cell_type": "code",
      "metadata": {
        "colab": {
          "base_uri": "https://localhost:8080/"
        },
        "id": "O2m_Ki5byAs5",
        "outputId": "e949a697-ec4a-47d9-f007-21ecb2dc1e98"
      },
      "source": [
        "!unzip woman1.zip"
      ],
      "execution_count": null,
      "outputs": [
        {
          "output_type": "stream",
          "name": "stdout",
          "text": [
            "Archive:  woman1.zip\n",
            "   creating: woman1/\n",
            "   creating: woman1/assets/\n",
            "  inflating: woman1/keras_metadata.pb  \n",
            "  inflating: woman1/saved_model.pb   \n",
            "   creating: woman1/variables/\n",
            "  inflating: woman1/variables/variables.data-00000-of-00001  \n",
            "  inflating: woman1/variables/variables.index  \n"
          ]
        }
      ]
    },
    {
      "cell_type": "code",
      "metadata": {
        "id": "b12QeiB_yIZl"
      },
      "source": [
        "model = keras.models.load_model('woman1')"
      ],
      "execution_count": null,
      "outputs": []
    },
    {
      "cell_type": "code",
      "metadata": {
        "colab": {
          "base_uri": "https://localhost:8080/"
        },
        "id": "ruS4MmzYjNEu",
        "outputId": "e0dcd43e-a661-43f0-a9c6-1eb27f16c35f"
      },
      "source": [
        "y_predicted = model.predict(input)\n",
        "\n",
        "y_predicted[0:10]"
      ],
      "execution_count": null,
      "outputs": [
        {
          "output_type": "execute_result",
          "data": {
            "text/plain": [
              "array([[1.008, 0.964, 0.876],\n",
              "       [1.007, 0.963, 0.875],\n",
              "       [1.007, 0.963, 0.876],\n",
              "       [1.007, 0.963, 0.877],\n",
              "       [1.006, 0.963, 0.878],\n",
              "       [1.006, 0.963, 0.879],\n",
              "       [1.006, 0.963, 0.88 ],\n",
              "       [1.006, 0.963, 0.881],\n",
              "       [1.006, 0.963, 0.882],\n",
              "       [1.006, 0.963, 0.882]], dtype=float32)"
            ]
          },
          "metadata": {},
          "execution_count": 72
        }
      ]
    },
    {
      "cell_type": "code",
      "metadata": {
        "colab": {
          "base_uri": "https://localhost:8080/",
          "height": 394
        },
        "id": "UAcyDzMx0otz",
        "outputId": "58816ba3-fba7-4975-df28-f4c35c27c962"
      },
      "source": [
        "plt.figure(figsize=(6,6))\n",
        "plt.imshow(y_predicted_retransformed)\n",
        "plt.show()"
      ],
      "execution_count": null,
      "outputs": [
        {
          "output_type": "stream",
          "name": "stderr",
          "text": [
            "Clipping input data to the valid range for imshow with RGB data ([0..1] for floats or [0..255] for integers).\n"
          ]
        },
        {
          "output_type": "display_data",
          "data": {
            "image/png": "[encoded data removed]",
            "text/plain": [
              "<Figure size 432x432 with 1 Axes>"
            ]
          },
          "metadata": {
            "needs_background": "light"
          }
        }
      ]
    },
    {
      "cell_type": "code",
      "metadata": {
        "colab": {
          "base_uri": "https://localhost:8080/",
          "height": 394
        },
        "id": "B-Lfj-8lw_C6",
        "outputId": "081a6086-c209-49c0-919e-11af8b332a93"
      },
      "source": [
        "plt.figure(figsize=(6,6))\n",
        "plt.imshow(y_predicted_retransformed)\n",
        "plt.show()"
      ],
      "execution_count": null,
      "outputs": [
        {
          "output_type": "stream",
          "name": "stderr",
          "text": [
            "Clipping input data to the valid range for imshow with RGB data ([0..1] for floats or [0..255] for integers).\n"
          ]
        },
        {
          "output_type": "display_data",
          "data": {
            "image/png": "[encoded data removed]",
            "text/plain": [
              "<Figure size 432x432 with 1 Axes>"
            ]
          },
          "metadata": {
            "needs_background": "light"
          }
        }
      ]
    },
    {
      "cell_type": "code",
      "metadata": {
        "id": "sFmC7-SUxpTN"
      },
      "source": [
        ""
      ],
      "execution_count": null,
      "outputs": []
    }
  ]
}